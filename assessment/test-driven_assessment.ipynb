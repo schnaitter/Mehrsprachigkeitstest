{
 "cells": [
  {
   "cell_type": "markdown",
   "metadata": {},
   "source": [
    "# Test-Driven Assessment"
   ]
  },
  {
   "cell_type": "markdown",
   "metadata": {},
   "source": [
    "Basierend auf Mustern des sogenannten \"Test-Driven Developments\" wird den Lernenden eine Aufgabenstellung gegeben, welche bspw. durch die Programmierung einer Funktion zu lösen ist. Zur Unterstützung und Überprüfung der Lösung werden verschiedene Test-Funktionen genutzt.\n",
    "\n",
    "Diese Test-Funktionen zeigen die Korrektheit der Lösung in einem gewissen Wertebereich oder Nutzungskontext an. Anfangs geben sie Fehlermeldungen aus, welche während der Entwicklung der Lösung nach und nach behoben werden. Die jeweiligen Fehlermeldungen geben dabei Hinweise über die Lösung, ohne sie direkt vorwegzunehmen."
   ]
  },
  {
   "cell_type": "markdown",
   "metadata": {},
   "source": [
    "## Übung: Schaltjahr\n",
    "Entwickeln Sie eine Funktion, die für eine übergebene Jahreszahl ausgibt, ob es sich um ein Schaltjahr handelt oder nicht."
   ]
  },
  {
   "cell_type": "code",
   "execution_count": 1,
   "metadata": {},
   "outputs": [],
   "source": [
    "def test_leap_year():\n",
    "    assert is_leap_year(1) == False, \"Odd years are not leap years.\"\n",
    "    assert is_leap_year(2002) == False, \"Leap years are divisible by 4.\"\n",
    "    assert is_leap_year(4) == True, \"4 is a leap year.\"\n",
    "    assert is_leap_year(2024) == True, \"2024 is a leap year.\"\n",
    "    assert is_leap_year(400) == True, \"A year divisible by 400 is a leap year.\"\n",
    "    assert is_leap_year(800) == True, \"800 is divisible by 400.\"\n",
    "    assert is_leap_year(1900) == False, \"1900 is no leap year because it is divisible by 4 and by 100 but not also by 400.\""
   ]
  },
  {
   "cell_type": "code",
   "execution_count": 4,
   "metadata": {},
   "outputs": [],
   "source": [
    "def is_leap_year(year):\n",
    "    pass\n",
    "\n",
    "# test function – remove comment to run\n",
    "#test_leap_year()"
   ]
  },
  {
   "cell_type": "markdown",
   "metadata": {},
   "source": [
    "````{admonition} Lösung: Schaltjahr\n",
    ":class: dropdown\n",
    "```python\n",
    "def is_leap_year(year):\n",
    "    \"\"\"Return True for leap years, False for non-leap years.\"\"\"\n",
    "    return year % 4 == 0 and (year % 100 != 0 or year % 400 == 0)\n",
    "```\n",
    "````"
   ]
  },
  {
   "cell_type": "markdown",
   "metadata": {},
   "source": []
  }
 ],
 "metadata": {
  "kernelspec": {
   "display_name": "Python 3",
   "language": "python",
   "name": "python3"
  },
  "language_info": {
   "codemirror_mode": {
    "name": "ipython",
    "version": 3
   },
   "file_extension": ".py",
   "mimetype": "text/x-python",
   "name": "python",
   "nbconvert_exporter": "python",
   "pygments_lexer": "ipython3",
   "version": "3.12.3"
  }
 },
 "nbformat": 4,
 "nbformat_minor": 2
}
